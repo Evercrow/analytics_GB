{
 "cells": [
  {
   "cell_type": "markdown",
   "metadata": {},
   "source": [
    "## Задача1\n",
    "_На складе лежат разные фрукты в разном количестве.\n",
    "Нужно написать функцию, которая на вход принимает любое количество названий фруктов и их количество,\n",
    " а возвращает общее количество фруктов на складе_"
   ]
  },
  {
   "cell_type": "code",
   "execution_count": 1,
   "metadata": {
    "collapsed": false,
    "pycharm": {
     "name": "#%%\n"
    }
   },
   "outputs": [
    {
     "name": "stdout",
     "output_type": "stream",
     "text": [
      "23\n"
     ]
    }
   ],
   "source": [
    "def CountMerch(**products) -> int:\n",
    "    return sum(products.values())\n",
    "\n",
    "warehouse = {\"bananas\":10,\n",
    "            \"oranges\":13};\n",
    "print(CountMerch(**warehouse)); \n",
    "\n"
   ]
  },
  {
   "cell_type": "code",
   "execution_count": 2,
   "metadata": {},
   "outputs": [
    {
     "data": {
      "text/plain": [
       "10"
      ]
     },
     "execution_count": 2,
     "metadata": {},
     "output_type": "execute_result"
    }
   ],
   "source": [
    "CountMerch(mangoes = 5,kiwis=5)"
   ]
  },
  {
   "cell_type": "markdown",
   "metadata": {
    "collapsed": false,
    "pycharm": {
     "name": "#%%\n"
    }
   },
   "source": [
    "## Задача 2\n",
    "\n",
    "*Дан список с затратами на рекламу. Но в данных есть ошибки, некоторые затраты имеют отрицательную величину. Удалите такие значения из списка и посчитайте суммарные затраты*\n",
    "    \n",
    "    [100, 125, -90, 345, 655, -1, 0, 200]\n",
    "\n",
    "Используйте **list comprehensions**"
   ]
  },
  {
   "cell_type": "code",
   "execution_count": 3,
   "metadata": {},
   "outputs": [],
   "source": [
    "def FixNegative(inp_l : list)->list:\n",
    "    fixed_l =[val for val in inp_l if val>=0]\n",
    "    return (fixed_l,sum(fixed_l))\n",
    "#вспоминал тут возврат кортежей"
   ]
  },
  {
   "cell_type": "code",
   "execution_count": 4,
   "metadata": {},
   "outputs": [
    {
     "name": "stdout",
     "output_type": "stream",
     "text": [
      "Cуммарные затраты равны 1425\n",
      "[100, 125, 345, 655, 0, 200]\n"
     ]
    }
   ],
   "source": [
    "spendings=[100, 125, -90, 345, 655, -1, 0, 200]\n",
    "spendings_pos=FixNegative(spendings)[0]\n",
    "print(f\"Cуммарные затраты равны {FixNegative(spendings)[1]}\")\n",
    "print(spendings_pos)"
   ]
  },
  {
   "cell_type": "markdown",
   "metadata": {},
   "source": [
    "## Задача 3\n",
    "Даны два списка. <br>\n",
    "*Дата покупки*\n",
    "\n",
    "    ['2021-09-14', '2021-12-15', '2021-09-08', '2021-12-05', '2021-10-09', '2021-09-30', '2021-12-22', '2021-11-29', '2021-12-24', '2021-11-26', '2021-10-27', '2021-12-18', '2021-11-09', '2021-11-23', '2021-09-27', '2021-10-02', '2021-12-27', '2021-09-20', '2021-12-13', '2021-11-01', '2021-11-09', '2021-12-06', '2021-12-08', '2021-10-09', '2021-10-31', '2021-09-30', '2021-11-09', '2021-12-13', '2021-10-26', '2021-12-09']\n",
    "\n",
    "*Суммы покупок по датам*\n",
    "\n",
    "    [1270, 8413, 9028, 3703, 5739, 4095, 295, 4944, 5723, 3701, 4471, 651, 7037, 4274, 6275, 4988, 6930, 2971, 6592, 2004, 2822, 519, 3406, 2732, 5015, 2008, 316, 6333, 5700, 2887]\n",
    "\n",
    "### 3.1 Найдите, какая выручка у компании в ноябре\n",
    "Используйте *list comprehensions*"
   ]
  },
  {
   "cell_type": "code",
   "execution_count": 2,
   "metadata": {},
   "outputs": [
    {
     "name": "stdout",
     "output_type": "stream",
     "text": [
      "{'2021-Nov-29': 4944, '2021-Nov-26': 3701, '2021-Nov-09': 316, '2021-Nov-23': 4274, '2021-Nov-01': 2004, 'Total sum': 15239}\n",
      "\n",
      "{'2021-Sep-14': 1270, '2021-Sep-08': 9028, '2021-Sep-30': 2008, '2021-Sep-27': 6275, '2021-Sep-20': 2971, 'Total sum': 21552}\n"
     ]
    }
   ],
   "source": [
    "pur_dates=['2021-09-14', '2021-12-15', '2021-09-08', '2021-12-05', '2021-10-09', '2021-09-30', '2021-12-22', '2021-11-29', '2021-12-24', '2021-11-26', '2021-10-27', '2021-12-18', '2021-11-09', '2021-11-23', '2021-09-27', '2021-10-02', '2021-12-27', '2021-09-20', '2021-12-13', '2021-11-01', '2021-11-09', '2021-12-06', '2021-12-08', '2021-10-09', '2021-10-31', '2021-09-30', '2021-11-09', '2021-12-13', '2021-10-26', '2021-12-09']\n",
    "pur_sums=[1270, 8413, 9028, 3703, 5739, 4095, 295, 4944, 5723, 3701, 4471, 651, 7037, 4274, 6275, 4988, 6930, 2971, 6592, 2004, 2822, 519, 3406, 2732, 5015, 2008, 316, 6333, 5700, 2887]\n",
    "# from datetime import datetime as d\n",
    "# #сначала хотел просто методом-преобразователем стринг в даты через map пробежаться\n",
    "# #но потом помимо итерируемого списка понадобилось через lambda передать формат даты.\n",
    "# inp_dates = list(map(lambda d_strings:d.strptime(d_strings,'%Y-%m-%d') , pur_dates))\n",
    "# print(type(inp_dates))\n",
    "# print(inp_dates[0].strftime('%m')== '09')\n",
    "\n",
    "def FilterMonths(date_l :list,num_l:list,*months :int)-> dict:\n",
    "    if  len(date_l) == len(num_l):\n",
    "        #преобразуем строки в объекты datetime в первом списке\n",
    "\n",
    "        from datetime import datetime as d\n",
    "        date_l = list(map(lambda d_strings:d.strptime(d_strings,'%Y-%m-%d') , date_l))\n",
    "\n",
    "        #создаем конечный словарь с фильтром по месяцам,\n",
    "        #также сразу добавим строковое представление даты в ключе,чтобы потом не пересоздавать словарь\n",
    "        #для сравнения строк и через метод strftime нужно конвертировать аргументы\n",
    "        #c помощью zfill можно добавить нулей для одинарных месяцев\n",
    "\n",
    "        # months = set(map(lambda m:str(m).zfill(2),months))\n",
    "        # res_d = {date_l[i].strftime('%Y-%b-%d'):num_l[i] for i in range(len(date_l)) if date_l[i].strftime('%m') in months }\n",
    "\n",
    "        #можно использовать свойство .month объекта,тогда аргументы можно оставить числовыми\n",
    "        res_d = {date_l[i].strftime('%Y-%b-%d'):num_l[i] for i in range(len(date_l)) if date_l[i].month in months }\n",
    "        \n",
    "        #добавляем суммарный подсчет\n",
    "        res_d[\"Total sum\"] = sum(res_d.values())\n",
    "        return res_d\n",
    "    else : \n",
    "        return \"List of dates and list of values must have equal number of elements\"\n",
    "\n",
    "print(FilterMonths(pur_dates,pur_sums,11))\n",
    "print()\n",
    "print(FilterMonths(pur_dates,pur_sums,9))"
   ]
  },
  {
   "cell_type": "markdown",
   "metadata": {},
   "source": [
    "Таким образом, написали функцию, которая принимает на вход два списка и числа месяцев, и возвращает словарь с фильтром и заодно суммой всех значений словаря \n",
    "\n",
    "### 3.2 Найдите выручку компании в зависимости от месяца\n",
    "*Для этого напишите функцию, которая на вход принимает список с датами и список с выручкой, а на выходе словарь, где ключи - это месяцы, а значения - это выручка.\n",
    "Используйте аннотирование типов.*"
   ]
  },
  {
   "cell_type": "code",
   "execution_count": 3,
   "metadata": {},
   "outputs": [
    {
     "data": {
      "text/plain": [
       "{'September sum': 25647,\n",
       " 'December sum': 45452,\n",
       " 'October sum': 28645,\n",
       " 'November sum': 25098}"
      ]
     },
     "execution_count": 3,
     "metadata": {},
     "output_type": "execute_result"
    }
   ],
   "source": [
    "\n",
    "\n",
    "def ShowMonthSums(date_l :list,num_l:list)-> dict:\n",
    "    if  len(date_l) == len(num_l):\n",
    "        #преобразуем строки в объекты datetime в первом списке\n",
    "        from datetime import datetime as d\n",
    "        def CreateDates(d_strings:str)->d:\n",
    "            return d.strptime(d_strings,'%Y-%m-%d')\n",
    "            # lambda d_strings:d.strptime(d_strings,'%Y-%m-%d')\n",
    "        date_l = list(map(CreateDates, date_l))\n",
    "        # создаем конечный вид ключей c месяцами.Не знаю почему, но с lambda здесь работает медленнее\n",
    "        def KeyFormat(x:d)->str:\n",
    "            return x.strftime('%B')+\" sum\"\n",
    "        date_l = list(map(KeyFormat,date_l))\n",
    "        res_d = {}\n",
    "        ##проходим циклом for по обоим спискам, с помощью zip создаем рабочие пары iterable\n",
    "        for i,num in zip(date_l,num_l):\n",
    "            res_d[i] = res_d.get(i,0) + num\n",
    "        ##здесь не знаю как записать это с помощью dict comprehension, поможете?\n",
    "        ##Проблема, что сравнивать надо с  ключами нового словаря при прибавлении, а они еще не существуют при comprehension\n",
    "        ## res_d = {KeyFormat(i): num  for i,num in zip(date_l,num_l)}\n",
    "        return res_d\n",
    "    else : \n",
    "        return \"List of dates and list of values must have equal number of elements\"\n",
    "\n",
    "ShowMonthSums(pur_dates,pur_sums)"
   ]
  },
  {
   "cell_type": "markdown",
   "metadata": {},
   "source": [
    "Задача 4.\n",
    "---\n",
    "\n",
    "### 5.1 Найдите картинку в интернете и прикрепите её в ячейку с текстом\n",
    "\n"
   ]
  },
  {
   "cell_type": "markdown",
   "metadata": {},
   "source": [
    "Например, вот так\n",
    "![картинка из инета](https://i.ibb.co/HpMnhBc/2022-09-15-14-04-39.png)\n"
   ]
  },
  {
   "cell_type": "markdown",
   "metadata": {},
   "source": [
    "### 5.2 Создайте следующую таблицу(см. выше) в ячейке с текстом"
   ]
  },
  {
   "cell_type": "markdown",
   "metadata": {},
   "source": [
    "\n",
    "<table>\n",
    "    <tr><td></td><td>До события</td><td>Во время события</td></tr>\n",
    "    <tr><td>1 контрольная точка</td><td>250</td><td>500</td> </tr>\n",
    "    <tr><td>2 контрольная точка</td><td>350</td><td>700</td> </tr>\n",
    "    <tr><td>3 контрольная точка</td><td>400</td><td>800</td> </tr>\n",
    "    <tr><td>Итого за победу</td><td>1000</td><td>2000</td> </tr>\n",
    "</table>"
   ]
  },
  {
   "cell_type": "markdown",
   "metadata": {},
   "source": [
    "можно записать проще через:\n",
    "\n",
    "    |Header|Header|Header|\n",
    "    |------|------|------|\n",
    "    |A     |B     |C     |\n",
    "    |X     |Y     |Z     |\n",
    "После заголовков можно обозначить выравнивание столбцов \n",
    "+ ```-``` - по умолчанию левый край\n",
    "+ ```:-``` - левый край\n",
    "+ ```-:``` - правый край\n",
    "+ ```:-:``` - по центру\n",
    "\n",
    "||До события|Во время события|\n",
    "|:-|:-:|-:|\n",
    "|1 контрольная точка|250|500|\n",
    "|2 контрольная точка|350|700|\n",
    "|3 контрольная точка|400|800|\n",
    "|Итого за победу|1000|2000|"
   ]
  }
 ],
 "metadata": {
  "kernelspec": {
   "display_name": "Python 3.9.12 ('base')",
   "language": "python",
   "name": "python3"
  },
  "language_info": {
   "codemirror_mode": {
    "name": "ipython",
    "version": 3
   },
   "file_extension": ".py",
   "mimetype": "text/x-python",
   "name": "python",
   "nbconvert_exporter": "python",
   "pygments_lexer": "ipython3",
   "version": "3.9.12"
  },
  "vscode": {
   "interpreter": {
    "hash": "10774dab879144ab4b5dc139034ff1511eb939bdd72cd4d6485af79f95a3488f"
   }
  }
 },
 "nbformat": 4,
 "nbformat_minor": 0
}
