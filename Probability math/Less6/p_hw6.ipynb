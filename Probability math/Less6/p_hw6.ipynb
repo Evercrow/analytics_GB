{
 "cells": [
  {
   "cell_type": "markdown",
   "metadata": {},
   "source": [
    "### Задача 1\n",
    "*Известно, что генеральная совокупность распределена нормально\n",
    "со средним квадратическим отклонением, равным 16.\n",
    "Найти доверительный интервал для оценки математического ожидания a с надежностью 0.95,\n",
    "если выборочная средняя M = 80, а объем выборки n = 256.*\n"
   ]
  },
  {
   "cell_type": "markdown",
   "metadata": {},
   "source": [
    "Дано:\n",
    "* $\\sigma=16$\n",
    "* $\\alpha=1-0.95=0.05$\n",
    "* $\\Mu = 80$\n",
    "* $n=256$"
   ]
  },
  {
   "cell_type": "markdown",
   "metadata": {},
   "source": [
    "Применим формулу доверительного интервала при известном СКО генеральной совокупности:\n",
    "$$\\bar{X} \\pm Z_{\\frac{\\alpha}{2}}*\\frac{\\sigma}{\\sqrt{n}}$$\n",
    "$\\bar{X} = \\Mu = 80$  \n",
    "$Z_{\\frac{\\alpha}{2}}$ по таблице равен 1.96\n",
    "$$80 \\pm 1.96*\\frac{16}{\\sqrt{256}}=80\\pm 1.96*1$$\n",
    "\n",
    "Ответ: интервал с надежностью в 95% будет  **[78,04 ; 81,96]**"
   ]
  },
  {
   "cell_type": "markdown",
   "metadata": {},
   "source": [
    "И то же самое в Питоне:"
   ]
  },
  {
   "cell_type": "code",
   "execution_count": 9,
   "metadata": {},
   "outputs": [
    {
     "data": {
      "text/plain": [
       "'[78.04003601545995;81.95996398454005]'"
      ]
     },
     "execution_count": 9,
     "metadata": {},
     "output_type": "execute_result"
    }
   ],
   "source": [
    "import scipy.stats as stats\n",
    "import numpy as np\n",
    "def Trusted_intZ(n,sigma,mid,alpha):\n",
    "    Z_a=stats.norm.ppf(1-alpha/2)\n",
    "    dev=np.abs(Z_a*sigma/np.sqrt(n))\n",
    "    return f'[{mid-dev};{mid+dev}]'\n",
    "\n",
    "Trusted_intZ(256,16,80,0.05)"
   ]
  },
  {
   "cell_type": "markdown",
   "metadata": {},
   "source": [
    "### Задача 2\n",
    "\n",
    "*В результате 10 независимых измерений некоторой величины X, выполненных с одинаковой точностью,\n",
    "получены опытные данные:*\n",
    "\n",
    "    6.9, 6.1, 6.2, 6.8, 7.5, 6.3, 6.4, 6.9, 6.7, 6.1  \n",
    "    \n",
    "*Предполагая, что результаты измерений подчинены нормальному закону распределения вероятностей,\n",
    "оценить истинное значение величины X при помощи доверительного интервала, покрывающего это\n",
    "значение с доверительной вероятностью 0,95.*"
   ]
  },
  {
   "cell_type": "markdown",
   "metadata": {},
   "source": [
    "Здесь среднее квадратичное отклонение ГС мы не знаем, поэтому будем считать его по выборке и использовать криттерий Стьюдента.\n",
    "$$ \\bar{X} \\pm t_{\\frac{\\alpha}{2}}*\\frac{\\sigma_x}{\\sqrt{n}} $$"
   ]
  },
  {
   "cell_type": "markdown",
   "metadata": {},
   "source": [
    "Посчитаем среднее арифметическое и стандартное отклонение через питон:"
   ]
  },
  {
   "cell_type": "code",
   "execution_count": 18,
   "metadata": {},
   "outputs": [
    {
     "data": {
      "text/plain": [
       "0.42766809560686203"
      ]
     },
     "execution_count": 18,
     "metadata": {},
     "output_type": "execute_result"
    }
   ],
   "source": [
    "x_list = np.array([6.9, 6.1, 6.2, 6.8, 7.5, 6.3, 6.4, 6.9, 6.7, 6.1])\n",
    "np.std(x_list)"
   ]
  },
  {
   "cell_type": "code",
   "execution_count": 15,
   "metadata": {},
   "outputs": [
    {
     "data": {
      "text/plain": [
       "6.590000000000001"
      ]
     },
     "execution_count": 15,
     "metadata": {},
     "output_type": "execute_result"
    }
   ],
   "source": [
    "np.mean(x_list)"
   ]
  },
  {
   "cell_type": "markdown",
   "metadata": {},
   "source": [
    "По таблице $t_{\\frac{\\alpha}{2}}$ со степенями свободы 9 и вероятностью 0.975 будет равно 2.262  \n",
    "Подставим все это в формулу:\n",
    "$$6.59 \\pm 2.262*\\frac{0.43}{\\sqrt{10}}=6.59 \\pm 2.262*0.136=6.59 \\pm 0.308$$\n",
    "Ответ: доверительный 95-% интервал будет **[6.282 ; 6.898]**"
   ]
  },
  {
   "cell_type": "markdown",
   "metadata": {},
   "source": [
    "А здесь проверка через функцию с нашей формулой в Питоне:"
   ]
  },
  {
   "cell_type": "code",
   "execution_count": 19,
   "metadata": {},
   "outputs": [
    {
     "data": {
      "text/plain": [
       "'[6.284064674352047;6.8959353256479545]'"
      ]
     },
     "execution_count": 19,
     "metadata": {},
     "output_type": "execute_result"
    }
   ],
   "source": [
    "\n",
    "def Trusted_intT(l:list,alpha:float)->str:\n",
    "    n=len(l)\n",
    "    Z_t=stats.t.ppf(1-alpha/2, n-1)\n",
    "    sigma= np.std(l)\n",
    "    mid = np.mean(l)\n",
    "    dev=np.abs(Z_t*sigma/np.sqrt(n))\n",
    "    return f'[{mid-dev};{mid+dev}]'\n",
    "\n",
    "\n",
    "Trusted_intT(x_list,0.05)"
   ]
  },
  {
   "cell_type": "markdown",
   "metadata": {},
   "source": [
    "Совпало, с некоторой погрешностью в тысячных"
   ]
  },
  {
   "cell_type": "markdown",
   "metadata": {},
   "source": [
    "### Задача 3\n",
    "*На препарате А положительный результат лечения наблюдается у 17 из 32 пациентов, а на препарате В у 9 из 22. Построить 95% доверительный интервал для разности долей.\n",
    "Обнаружены ли статистически значимые различия?*"
   ]
  },
  {
   "cell_type": "markdown",
   "metadata": {},
   "source": [
    "Формула для сравнения долей:\n",
    "\n",
    "$$z = \\frac{\\bar{p_1}-\\bar{p_2}}{\\sqrt{p(1-p)(\\frac{1}{n_1}+\\frac{1}{n_2})}} \\text{ ,где  }p = \\frac{m_1+m_2}{n_1+n_2}$$\n",
    "$\\bar{p_1}=17/32=0.53125$  \n",
    "$\\bar{p_2}=9/22=0.409$  \n",
    "Подставим значения из условия, где в числителе $p$ положительные результаты лечения в выборках, а в знаменателе число пациентов каждой выборки.  \n",
    "$$p = \\frac{17+9}{22+32}=0.481$$\n",
    "Так как доверительный интервал мы строим по непрерывным величинам, мы вводим в числитель $z$ еще поправку на непрерывность:\n",
    "$$z = \\frac{|\\bar{p_1}-\\bar{p_2}|-\\frac{1}{2}(\\frac{1}{n_1}+\\frac{1}{n_2})}{\\sqrt{p(1-p)(\\frac{1}{n_1}+\\frac{1}{n_2})}}$$\n",
    "$$z = \\frac{|0.53125-0.409|-\\frac{1}{2}(0.03125+0.045)}{\\sqrt{0.481*(1-0.481)(0.03125+0.045)}}$$\n",
    "$$z = \\frac{0.12225-0.038125}{0.138}=\\frac{0.084125}{0.138}=0.609$$\n"
   ]
  },
  {
   "cell_type": "markdown",
   "metadata": {},
   "source": [
    "Это меньше оценки статистической   значимости при $\\alpha=5\\%$, и $Z_{\\alpha/2}=1.96$, значит статистически значимых различий между двумя препаратами нет. "
   ]
  },
  {
   "cell_type": "markdown",
   "metadata": {},
   "source": [
    "Теперь построим доверительный 95%-й интервал для разности долей:  \n",
    "$$\\Delta \\pm z_{\\frac{\\alpha}{2}}*S_{\\Delta} \\text{ ,где  } S_{\\Delta}=\\sqrt{p(1-p)((\\frac{1}{n_1}+\\frac{1}{n_2}))}\\text{,  то есть знаменатель, найденный нами ранее в формуле z-криттерия}$$\n",
    "$$\\Delta = \\bar{p_1}-\\bar{p_2} = 0.12225 $$\n",
    " $ 0.12225 \\pm 1.96*0.138 =  0.12225 \\pm 0.27048$  \n",
    " **Доверительный интервал: [-0,148; 0,392]**"
   ]
  }
 ],
 "metadata": {
  "kernelspec": {
   "display_name": "Python 3.10.4 64-bit",
   "language": "python",
   "name": "python3"
  },
  "language_info": {
   "codemirror_mode": {
    "name": "ipython",
    "version": 3
   },
   "file_extension": ".py",
   "mimetype": "text/x-python",
   "name": "python",
   "nbconvert_exporter": "python",
   "pygments_lexer": "ipython3",
   "version": "3.10.4"
  },
  "orig_nbformat": 4,
  "vscode": {
   "interpreter": {
    "hash": "26de051ba29f2982a8de78e945f0abaf191376122a1563185a90213a26c5da77"
   }
  }
 },
 "nbformat": 4,
 "nbformat_minor": 2
}
