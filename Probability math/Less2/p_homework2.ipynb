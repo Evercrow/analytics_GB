{
 "cells": [
  {
   "cell_type": "markdown",
   "metadata": {},
   "source": [
    "*Вероятность того, что стрелок попадет в мишень, выстрелив один раз, равна 0.8. Стрелок выстрелил 100 раз. Найдите вероятность того, что стрелок попадет в цель ровно 85 раз.*\n",
    "\n",
    "\n"
   ]
  },
  {
   "cell_type": "markdown",
   "metadata": {},
   "source": [
    "Дано:\n",
    "* $p(попадание) = 0.8$\n",
    "* $n = 100$\n",
    "* $k = 85$  \n",
    "\n",
    "Найдем вероятность по формуле Бернулли:  \n",
    "\n",
    "$ P_{100}(X=85)=C^{85}_{100}*p^{85}*(1-p)^{100-85} $"
   ]
  },
  {
   "cell_type": "code",
   "execution_count": 12,
   "metadata": {},
   "outputs": [
    {
     "name": "stdout",
     "output_type": "stream",
     "text": [
      "Ответ: вероятность равна 0.048\n"
     ]
    }
   ],
   "source": [
    "#Теперь уже использую встроенныю функцию питона для вычисления комбинаций\n",
    "from math import comb as C\n",
    "hit = 0.8\n",
    "P1 = C(100,85) * hit**85 *(1-hit)**15\n",
    "ans = P1\n",
    "print(f\"Ответ: вероятность равна {ans:.3f}\")"
   ]
  },
  {
   "cell_type": "markdown",
   "metadata": {},
   "source": [
    "---\n",
    "\n",
    "*Вероятность того, что лампочка перегорит в течение первого дня эксплуатации, равна 0.0004. В жилом комплексе после ремонта в один день включили 5000 новых лампочек. Какова вероятность, что ни одна из них не перегорит в первый день? Какова вероятность, что перегорят ровно две?*\n",
    "\n",
    "---\n"
   ]
  },
  {
   "cell_type": "markdown",
   "metadata": {},
   "source": [
    "Дано:\n",
    "* $p(перегорание) = 0.0004$ . Видим, что вероятность малая, поэтому пойдем по формуле Пуассона\n",
    "* $n = 5000$\n",
    "* $m1 = 0 ,m2 = 2$   \n",
    "\n",
    "Решение:  \n",
    "\n",
    "$ \\lambda = p*n=0.0004*5000=2 $  \n",
    "\n",
    "Запишем вероятность, что ни одна лампочка не перегорит($m_1 = 0$), по формуле Пуассона:  \n",
    "$$ P_{0}=\\frac{\\lambda^0}{0!}*e^{-\\lambda}=\\frac{2^0}{1}*\\frac{1}{2.72^2} = 0.135$$\n",
    "\n",
    "Вероятность, что перегорят две лампочки($m_2 = 2$):\n",
    "$$ P_{2}=\\frac{\\lambda^2}{2!}*e^{-\\lambda}=\\frac{2^2}{2}*\\frac{1}{2.72^2} = 0.27 $$"
   ]
  },
  {
   "cell_type": "markdown",
   "metadata": {},
   "source": [
    "---\n",
    "\n",
    "*Монету подбросили 144 раза. Какова вероятность, что орел выпадет ровно 70 раз?*\n",
    "\n",
    "---"
   ]
  },
  {
   "cell_type": "markdown",
   "metadata": {},
   "source": [
    "Дано:\n",
    "* $p(\\text{орел}) =\\frac{1}{2}= 0.5$\n",
    "* $n = 144$ - всего раз подбросили монету\n",
    "* $k = 70$ - сколько раз выпал орёл\n",
    "* $q = 1-0.5=0.5$\n",
    "\n",
    "Решение:  \n",
    "\n",
    "Снова классическое биномиальное распределение, запишем формулу.\n",
    "\n",
    "$ P_{144}(X=70)=C^{70}_{144}*p^{70}*q^{144-70} = 0.06281 $"
   ]
  },
  {
   "cell_type": "code",
   "execution_count": 13,
   "metadata": {},
   "outputs": [
    {
     "name": "stdout",
     "output_type": "stream",
     "text": [
      "Ответ: вероятность равна 0.06281\n",
      "Через мою функцию получилось 0.06281 , совпадает\n"
     ]
    }
   ],
   "source": [
    "tails = 0.5\n",
    "P2 = C(144,70) * tails**70 *(1-tails)**74\n",
    "ans = P2\n",
    "print(f\"Ответ: вероятность равна {ans:.5f}\")\n",
    "\n",
    "#Запишу и проверю питоновскую функцию для формулы Бернулли\n",
    "def Bernulli_spread(n:int,k:int,p:float)->float:\n",
    "    from math import comb as C\n",
    "    return C(n,k) * (p**k) *(1-p)**(n-k)\n",
    "\n",
    "P2_f = Bernulli_spread(144,70,0.5)\n",
    "if P2_f == ans:\n",
    "    print(f\"Через мою функцию получилось {P2_f:.5f} , совпадает\")\n",
    "else:\n",
    "    print(f\"Через мою функцию получилось {P2_f} , НЕ совпадает\")"
   ]
  },
  {
   "cell_type": "markdown",
   "metadata": {},
   "source": [
    "---\n",
    "\n",
    "*В первом ящике находится 10 мячей, из которых 7 - белые. Во втором ящике - 11 мячей, из которых 9 белых. Из каждого ящика вытаскивают случайным образом по два мяча. Какова вероятность того, что все мячи белые? Какова вероятность того, что ровно два мяча белые? Какова вероятность того, что хотя бы один мяч белый?*\n",
    "\n",
    "---"
   ]
  },
  {
   "cell_type": "markdown",
   "metadata": {},
   "source": [
    "Дано:  \n",
    " Вот такие ящики V"
   ]
  },
  {
   "cell_type": "code",
   "execution_count": 14,
   "metadata": {},
   "outputs": [
    {
     "data": {
      "text/plain": [
       "11"
      ]
     },
     "execution_count": 14,
     "metadata": {},
     "output_type": "execute_result"
    }
   ],
   "source": [
    "boxes = {'white':{'ящик 1':7,'ящик 2':9},\n",
    "        'non-white':{'ящик 1':3,'ящик 2':2}}\n",
    "import pandas as pd\n",
    "df = pd.DataFrame(boxes)\n",
    "df.sum(axis=1).max()"
   ]
  },
  {
   "cell_type": "code",
   "execution_count": 15,
   "metadata": {},
   "outputs": [
    {
     "data": {
      "image/png": "[encoded data removed]",
      "text/plain": [
       "<Figure size 600x300 with 1 Axes>"
      ]
     },
     "metadata": {},
     "output_type": "display_data"
    }
   ],
   "source": [
    "\n",
    "from ctypes import alignment\n",
    "import matplotlib.pyplot as plt\n",
    "import numpy as np\n",
    "\n",
    "plt.figure(figsize=(6,3))\n",
    "plt.bar(df.index,df['white'] )\n",
    "plt.bar(df.index,df['non-white'],bottom=df['white'] )\n",
    "plt.title(\"Ящики с мячами\")\n",
    "plt.ylabel(\"Кол-во мячей\")\n",
    "plt.legend(['Белые','не белые'],loc=\"lower right\")\n",
    "plt.grid(visible=True,axis=\"y\", linestyle=\"--\")\n",
    "plt.yticks(np.arange(df.sum(axis=1).max()+1, step=1));"
   ]
  },
  {
   "cell_type": "markdown",
   "metadata": {},
   "source": [
    "Для начала, найдем общую вероятность вытащить только один белый мяч при таком вытаскивании через относительную частоту:  \n",
    "$P(белый) = P(\\text{ровно один белый первого ящика})+P(\\text{ровно один белый второго ящика}) = $  \n",
    "$=P(б1)*P(ч1|б1)+P(ч1)*P(б1|ч1)+P(б2)*P(ч2|б2)+P(ч2)*P(б2|ч2)=$  \n",
    "$=\\frac{7}{10}*(1-\\frac{6}{9})+\\frac{3}{10}*(\\frac{6}{9})+\\frac{9}{11}*(1-\\frac{8}{10})+\\frac{2}{11}*(\\frac{8}{10})=0.233+0.2+0.164+0.145=0.742$"
   ]
  },
  {
   "cell_type": "code",
   "execution_count": 16,
   "metadata": {},
   "outputs": [
    {
     "name": "stdout",
     "output_type": "stream",
     "text": [
      "0.7424242424242424\n"
     ]
    }
   ],
   "source": [
    "P_white= (7/10)*(1-(6/9))+(9/11)*(1-(8/10))+ (3/10)*(6/9)+(2/11)*(8/10)\n",
    "print(P_white)\n"
   ]
  },
  {
   "cell_type": "markdown",
   "metadata": {},
   "source": [
    "Полученную вероятность уже можно использовать в формуле Бернулли , как среднестатистическую.\n",
    "Нам нужно будет найти вероятности для $n=4, p=0.742$, а $k = 0,2,4$ "
   ]
  },
  {
   "cell_type": "markdown",
   "metadata": {},
   "source": [
    " Вероятность, что ровно 2 мяча белые  \n",
    "$ P_{4}(X=2)=C^{2}_{4}*0.742^{2}*0.258^{2}= 6*0.550564*0.066564=0.2199$  \n",
    "Вероятность, что __все__ мячи белые  \n",
    "$ P_{4}(X=4)=C^{4}_{4}*0.742^{4}*0.258^{0}= 1*0.303*1=0.303$  \n",
    "Вероятность, что хотя бы 1 мяч белый  \n",
    "$ P_{4}(X=0)=C^{0}_{4}*0.742^{0}*0.258^{4}= 1*1*0.00443=0.00443$  \n",
    "$ P(>=1)=1-P_{4}(X=0)=0.9956$  "
   ]
  },
  {
   "cell_type": "markdown",
   "metadata": {},
   "source": [
    "То же самое через расчет в Питоне:"
   ]
  },
  {
   "cell_type": "code",
   "execution_count": 17,
   "metadata": {},
   "outputs": [
    {
     "name": "stdout",
     "output_type": "stream",
     "text": [
      " вероятность для k=0 белых мячей = 0.0044\n",
      " вероятность для k=1 белых мячей = 0.0510\n",
      " вероятность для k=2 белых мячей = 0.2199\n",
      " вероятность для k=3 белых мячей = 0.4216\n",
      " вероятность для k=4 белых мячей = 0.3031\n",
      "Вероятность хотя бы одного белого мяча = 0.9956\n"
     ]
    }
   ],
   "source": [
    "P_list= []\n",
    "prob=0.742\n",
    "tries = 4\n",
    "temp_prob = 0\n",
    "for i in range(0,tries+1):\n",
    "    temp_prob=Bernulli_spread(tries,i,prob)\n",
    "    P_list.append(temp_prob)\n",
    "    print(f\" вероятность для k={i} белых мячей = {temp_prob:.4f}\")\n",
    "P_atleast1=sum(P_list[1:5])\n",
    "print(f\"Вероятность хотя бы одного белого мяча = {P_atleast1:.4f}\")"
   ]
  },
  {
   "cell_type": "markdown",
   "metadata": {},
   "source": [
    "Проверим последний вариант с 4-мя мячами через относительную частоту:"
   ]
  },
  {
   "cell_type": "code",
   "execution_count": 18,
   "metadata": {},
   "outputs": [
    {
     "data": {
      "text/plain": [
       "0.3054545454545454"
      ]
     },
     "execution_count": 18,
     "metadata": {},
     "output_type": "execute_result"
    }
   ],
   "source": [
    "P4 = (7/10)*(6/9)*(9/11)*(8/10)\n",
    "P4"
   ]
  },
  {
   "cell_type": "markdown",
   "metadata": {},
   "source": [
    "Получилось близко, $\\approx 30 \\%$ "
   ]
  },
  {
   "cell_type": "code",
   "execution_count": 19,
   "metadata": {},
   "outputs": [
    {
     "data": {
      "text/plain": [
       "0.793939393939394"
      ]
     },
     "execution_count": 19,
     "metadata": {},
     "output_type": "execute_result"
    }
   ],
   "source": [
    "P_white2=C(7,1)*C(3,1)/C(10,2)+C(9,1)*C(2,1)/C(11,2)\n",
    "P_white2"
   ]
  },
  {
   "cell_type": "markdown",
   "metadata": {},
   "source": [
    "Попробуем только через сочетания:\n",
    "\n",
    "**Вероятность ровно 2 белых :**  \n",
    "$$P(2)=\\frac{C(2 белых)*C(2 черных)}{C(4любых)}=\\frac{C^{2}_{16}*C^{2}_{5}}{C^4_{21}}=\\frac{120*10}{5985}=0.2$$"
   ]
  },
  {
   "cell_type": "code",
   "execution_count": 20,
   "metadata": {},
   "outputs": [
    {
     "name": "stdout",
     "output_type": "stream",
     "text": [
      "0.20050125313283207\n"
     ]
    }
   ],
   "source": [
    "C2_16=C(16,2)\n",
    "# print(C2_16)\n",
    "C2_5=C(5,2)\n",
    "# print(C2_5)\n",
    "C4_21=C(21,4)\n",
    "# print(C4_21)\n",
    "P2=C2_16*C2_5/C4_21\n",
    "print(P2)"
   ]
  },
  {
   "cell_type": "markdown",
   "metadata": {},
   "source": [
    "**Вероятность ровно всех 4 белых :**  \n",
    "$$P(4)=\\frac{C(4 белых)}{C(4любых)}=\\frac{C^{4}_{16}}{C^4_{21}}=\\frac{1820}{5985}=0.304$$"
   ]
  },
  {
   "cell_type": "code",
   "execution_count": 21,
   "metadata": {},
   "outputs": [
    {
     "data": {
      "text/plain": [
       "0.30409356725146197"
      ]
     },
     "execution_count": 21,
     "metadata": {},
     "output_type": "execute_result"
    }
   ],
   "source": [
    "C4_16=C(16,4)\n",
    "# print(C4_16)\n",
    "P4=C4_16/C4_21\n",
    "P4"
   ]
  },
  {
   "cell_type": "markdown",
   "metadata": {},
   "source": [
    "**Хотя бы 1 белый** это вероятность обратная вероятности всех черных.  \n",
    "$$P(\\geq 1)=1-\\frac{C(4 черных)}{C(4любых)}=1-\\frac{C^{4}_{5}}{C^4_{21}}=1-\\frac{5}{5985}=0.9991$$"
   ]
  },
  {
   "cell_type": "code",
   "execution_count": 22,
   "metadata": {},
   "outputs": [
    {
     "data": {
      "text/plain": [
       "0.9991645781119465"
      ]
     },
     "execution_count": 22,
     "metadata": {},
     "output_type": "execute_result"
    }
   ],
   "source": [
    "C4_5=C(5,4)\n",
    "# print(C4_5)\n",
    "P_more1= 1- C4_5/C4_21\n",
    "P_more1"
   ]
  }
 ],
 "metadata": {
  "kernelspec": {
   "display_name": "Python 3.10.4 64-bit",
   "language": "python",
   "name": "python3"
  },
  "language_info": {
   "codemirror_mode": {
    "name": "ipython",
    "version": 3
   },
   "file_extension": ".py",
   "mimetype": "text/x-python",
   "name": "python",
   "nbconvert_exporter": "python",
   "pygments_lexer": "ipython3",
   "version": "3.10.4"
  },
  "orig_nbformat": 4,
  "vscode": {
   "interpreter": {
    "hash": "26de051ba29f2982a8de78e945f0abaf191376122a1563185a90213a26c5da77"
   }
  }
 },
 "nbformat": 4,
 "nbformat_minor": 2
}
