{
 "cells": [
  {
   "cell_type": "code",
   "execution_count": 2,
   "metadata": {},
   "outputs": [
    {
     "name": "stderr",
     "output_type": "stream",
     "text": [
      "C:\\Users\\Evercrow\\AppData\\Roaming\\Python\\Python310\\site-packages\\scipy\\stats\\_morestats.py:3255: UserWarning: Exact p-value calculation does not work if there are zeros. Switching to normal approximation.\n",
      "  warnings.warn(\"Exact p-value calculation does not work if there are \"\n"
     ]
    },
    {
     "data": {
      "text/plain": [
       "WilcoxonResult(statistic=3.0, pvalue=0.004741768038406971)"
      ]
     },
     "execution_count": 2,
     "metadata": {},
     "output_type": "execute_result"
    }
   ],
   "source": [
    "import numpy as np\n",
    "import scipy.stats as stats\n",
    "X= np.array([20,17, 14, 42, 50, 62, 8, 49, 81, 54, 48, 55, 56])\n",
    "Y= np.array ([20, 26, 1, 24, 1, 47, 15, 7, 65, 9, 21, 36, 30])\n",
    "\n",
    "stats.wilcoxon(X,Y)"
   ]
  },
  {
   "cell_type": "code",
   "execution_count": 3,
   "metadata": {},
   "outputs": [
    {
     "data": {
      "text/plain": [
       "WilcoxonResult(statistic=31.5, pvalue=0.339599609375)"
      ]
     },
     "execution_count": 3,
     "metadata": {},
     "output_type": "execute_result"
    }
   ],
   "source": [
    "X= np.array([ 32, 41, 51, 29, 76, 47, 60, 58, 40, 64, 73, 66, 73])\n",
    "Y= np.array ([42, 90, 71, 47, 56, 43, 137, 63, 28, 60, 87, 69, 50])\n",
    "\n",
    "stats.wilcoxon(X,Y)\n"
   ]
  },
  {
   "cell_type": "code",
   "execution_count": 4,
   "metadata": {},
   "outputs": [
    {
     "data": {
      "text/plain": [
       "FriedmanchisquareResult(statistic=6.5, pvalue=0.03877420783172202)"
      ]
     },
     "execution_count": 4,
     "metadata": {},
     "output_type": "execute_result"
    }
   ],
   "source": [
    "A= np.array([3.5, 3.3, 4.9, 3.6])\n",
    "\n",
    "\n",
    "B= np.array([8.6, 5.4, 8.8, 5.6])\n",
    "\n",
    "C=np.array([5.1, 8.6, 7.7, 5.0])\n",
    "\n",
    "stats.friedmanchisquare(A,B,C)\n"
   ]
  },
  {
   "cell_type": "code",
   "execution_count": 5,
   "metadata": {},
   "outputs": [
    {
     "data": {
      "text/plain": [
       "KruskalResult(statistic=12.02000000000001, pvalue=0.002454088180413905)"
      ]
     },
     "execution_count": 5,
     "metadata": {},
     "output_type": "execute_result"
    }
   ],
   "source": [
    "gr1 = ([0.5, 0.7, 1, 1.2, 1.4])\n",
    "gr2 = ([1.3, 1.45, 1.6, 1.7, 1.8])\n",
    "gr3 = ([6.2, 12.6, 13.2, 14.1, 14.2])\n",
    "\n",
    "stats.kruskal(gr1,gr2,gr3)\n"
   ]
  }
 ],
 "metadata": {
  "kernelspec": {
   "display_name": "Python 3.10.4 64-bit",
   "language": "python",
   "name": "python3"
  },
  "language_info": {
   "codemirror_mode": {
    "name": "ipython",
    "version": 3
   },
   "file_extension": ".py",
   "mimetype": "text/x-python",
   "name": "python",
   "nbconvert_exporter": "python",
   "pygments_lexer": "ipython3",
   "version": "3.10.4"
  },
  "orig_nbformat": 4,
  "vscode": {
   "interpreter": {
    "hash": "26de051ba29f2982a8de78e945f0abaf191376122a1563185a90213a26c5da77"
   }
  }
 },
 "nbformat": 4,
 "nbformat_minor": 2
}
