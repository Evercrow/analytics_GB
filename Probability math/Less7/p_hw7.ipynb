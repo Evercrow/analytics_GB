{
 "cells": [
  {
   "cell_type": "markdown",
   "metadata": {},
   "source": [
    "1-4 задачи решать с помощью функций, 5ю вручную  \n",
    "*Выберете тест и проверьте, есть ли различия между выборками:  \n",
    "\n",
    "##### 1 ) Даны две независимые выборки. Не соблюдается условие нормальности  \n",
    "\n",
    "    x1 380,420, 290\n",
    "    y1 140,360,200,900\n",
    "    \n",
    "*Сделайте вывод по результатам, полученным с помощью функции*  "
   ]
  },
  {
   "cell_type": "markdown",
   "metadata": {},
   "source": [
    "Две независимые выборки с ненормальным распределением - это тест Манна-Уитни, применим функцию в питоне:"
   ]
  },
  {
   "cell_type": "code",
   "execution_count": 5,
   "metadata": {},
   "outputs": [
    {
     "data": {
      "text/plain": [
       "MannwhitneyuResult(statistic=8.0, pvalue=0.6285714285714286)"
      ]
     },
     "execution_count": 5,
     "metadata": {},
     "output_type": "execute_result"
    }
   ],
   "source": [
    "import numpy as np\n",
    "import scipy.stats as stats\n",
    "x1=np.array([380,420, 290])\n",
    "y1=np.array([140,360,200,900])\n",
    "stats.mannwhitneyu(x1,y1)"
   ]
  },
  {
   "cell_type": "markdown",
   "metadata": {},
   "source": [
    "p-value больше 5%, значит, **верна нулевая гипотеза** о статитистической неразличимости этих выборок."
   ]
  },
  {
   "cell_type": "markdown",
   "metadata": {},
   "source": [
    "#### Задача 2 \n",
    "Исследовалось влияние препарата на уровень давления пациентов. Сначала измерялось давление до приема препарата, потом через 10 минут и через 30 минут. Есть ли статистически значимые различия?  \n",
    "1е измерение до приема препарата: 150, 160, 165, 145, 155  \n",
    "2е измерение через 10 минут: 140, 155, 150, 130, 135  \n",
    "3е измерение через 30 минут: 130, 130, 120, 130, 125  "
   ]
  },
  {
   "cell_type": "markdown",
   "metadata": {},
   "source": [
    "Так как давления мерялось на одних и тех же пациентах, то выборки считаем зависимыми.\n",
    "Про нормальность и дисперсию ничего не сказано, поэтому можем сразу взять непараметрический тест Фридмана для нескольких выборок "
   ]
  },
  {
   "cell_type": "code",
   "execution_count": 6,
   "metadata": {},
   "outputs": [
    {
     "data": {
      "text/plain": [
       "FriedmanchisquareResult(statistic=9.578947368421062, pvalue=0.00831683351100441)"
      ]
     },
     "execution_count": 6,
     "metadata": {},
     "output_type": "execute_result"
    }
   ],
   "source": [
    "before_gr = [150,160,165,145,155]\n",
    "min10_gr = [140, 155, 150, 130, 135]\n",
    "min30_gr = [130, 130, 120, 130, 125]\n",
    "stats.friedmanchisquare(before_gr,min10_gr,min30_gr)"
   ]
  },
  {
   "cell_type": "markdown",
   "metadata": {},
   "source": [
    "p-value равен 0.008, что значительно меньше статистической значимости в 0.05 , значит статистически значимые различия до и после препарата имеются.  \n",
    "\n",
    "Ради интереса, посмотрим, как быстро это влияние себя показало для теста по двум выборкам(собственно, **Задача (3)**):"
   ]
  },
  {
   "cell_type": "code",
   "execution_count": 15,
   "metadata": {},
   "outputs": [
    {
     "data": {
      "text/plain": [
       "WilcoxonResult(statistic=0.0, pvalue=0.0625)"
      ]
     },
     "execution_count": 15,
     "metadata": {},
     "output_type": "execute_result"
    }
   ],
   "source": [
    "stats.wilcoxon(before_gr,min10_gr)"
   ]
  },
  {
   "cell_type": "code",
   "execution_count": 19,
   "metadata": {},
   "outputs": [
    {
     "data": {
      "text/plain": [
       "WilcoxonResult(statistic=0.0, pvalue=0.0625)"
      ]
     },
     "execution_count": 19,
     "metadata": {},
     "output_type": "execute_result"
    }
   ],
   "source": [
    "stats.wilcoxon(before_gr,min30_gr)"
   ]
  },
  {
   "cell_type": "markdown",
   "metadata": {},
   "source": [
    "По гипотезе что выборки равны, pvalue  в 6,25% , что довольно мало, но все еще в пользу \"нет отличий\" при $\\alpha$ в 5% . Также statistic получился равен 0 , что говорит о том, что все различия(дельты) у нас односторонние. Проверим по Уилкоксону альтернативную гипотезу:"
   ]
  },
  {
   "cell_type": "code",
   "execution_count": 16,
   "metadata": {},
   "outputs": [
    {
     "data": {
      "text/plain": [
       "WilcoxonResult(statistic=15.0, pvalue=1.0)"
      ]
     },
     "execution_count": 16,
     "metadata": {},
     "output_type": "execute_result"
    }
   ],
   "source": [
    "stats.wilcoxon(before_gr,min30_gr,alternative=\"less\")"
   ]
  },
  {
   "cell_type": "markdown",
   "metadata": {},
   "source": [
    "Со 100% вероятностью верна гипотеза, что медиана второй выборки меньше медианы начальной выборки."
   ]
  },
  {
   "cell_type": "code",
   "execution_count": 20,
   "metadata": {},
   "outputs": [
    {
     "name": "stderr",
     "output_type": "stream",
     "text": [
      "C:\\Users\\Evercrow\\AppData\\Roaming\\Python\\Python310\\site-packages\\scipy\\stats\\_morestats.py:3255: UserWarning: Exact p-value calculation does not work if there are zeros. Switching to normal approximation.\n",
      "  warnings.warn(\"Exact p-value calculation does not work if there are \"\n",
      "C:\\Users\\Evercrow\\AppData\\Roaming\\Python\\Python310\\site-packages\\scipy\\stats\\_morestats.py:3269: UserWarning: Sample size too small for normal approximation.\n",
      "  warnings.warn(\"Sample size too small for normal approximation.\")\n"
     ]
    },
    {
     "data": {
      "text/plain": [
       "WilcoxonResult(statistic=0.0, pvalue=0.06559969214707187)"
      ]
     },
     "execution_count": 20,
     "metadata": {},
     "output_type": "execute_result"
    }
   ],
   "source": [
    "stats.wilcoxon(min10_gr,min30_gr,zero_method='wilcox')"
   ]
  },
  {
   "cell_type": "markdown",
   "metadata": {},
   "source": [
    "При сравнении двух выборок после введения  препарата получаем ошибку о слишком малом объеме выборок для правильного теста и наличии 0-й в дельтах.  \n",
    "Вывод: тест Уилкоксона в этой задаче не слишком подходит, и не дает каких-то уверенных результатов, но можно говорить о большей похожести выборок по 10 и 30 минутам, чем о выборках до начала препарата и любой после."
   ]
  },
  {
   "cell_type": "markdown",
   "metadata": {},
   "source": [
    "#### Задача 4\n",
    "Даны 3 группы учеников плавания.  \n",
    "В 1 группе время на дистанцию 50 м составляют: 56, 60, 62, 55, 71, 67, 59, 58, 64, 67  \n",
    "Вторая группа : 57, 58, 69, 48, 72, 70, 68, 71, 50, 53  \n",
    "Третья группа: 57, 67, 49, 48, 47, 55, 66, 51, 54  "
   ]
  },
  {
   "cell_type": "markdown",
   "metadata": {},
   "source": [
    "Группы у нас по разным ученикам, так что берем тест для нескольких независимых выборок, по Краскелу-Уоллису"
   ]
  },
  {
   "cell_type": "code",
   "execution_count": 21,
   "metadata": {},
   "outputs": [
    {
     "data": {
      "text/plain": [
       "KruskalResult(statistic=5.465564058257224, pvalue=0.06503809985904942)"
      ]
     },
     "execution_count": 21,
     "metadata": {},
     "output_type": "execute_result"
    }
   ],
   "source": [
    "st_grA = [56, 60, 62, 55, 71, 67, 59, 58, 64, 67]\n",
    "st_grB = [57, 58, 69, 48, 72, 70, 68, 71, 50, 53]\n",
    "st_grC = [57, 67, 49, 48, 47, 55, 66, 51, 54]\n",
    "stats.kruskal(st_grA,st_grB,st_grC)"
   ]
  },
  {
   "cell_type": "markdown",
   "metadata": {},
   "source": [
    "Получаем, что с 6.5% вероятностью генеральная совокупность наших выборок будет распределяться по $\\Chi^2$, что выше стандартной  $\\alpha$ в 5% , а значит, различия между нашими группами студентов будут небольшие(и выборки взяты из одной генеральной совокупности)"
   ]
  },
  {
   "cell_type": "markdown",
   "metadata": {},
   "source": [
    "#### Задача 5\n",
    "Заявляется, что партия изготавливается со средним арифметическим 2,5 см. Проверить данную гипотезу, если известно, что размеры изделий подчинены нормальному закону распределения. Объем выборки 10, уровень статистической значимости 5%  \n",
    "2.51, 2.35, 2.74, 2.56, 2.40, 2.36, 2.65, 2.7, 2.67, 2.34"
   ]
  },
  {
   "cell_type": "markdown",
   "metadata": {},
   "source": [
    "Дано:\n",
    "* условие нормальности выполнено\n",
    "* $\\mu_0=2,5$ см\n",
    "* $\\alpha =5\\%$\n",
    "* $n=10$\n",
    "* альтернативная гипотеза $H_1$ что $\\mu \\neq \\mu_0$ "
   ]
  },
  {
   "cell_type": "markdown",
   "metadata": {},
   "source": [
    "Дисперсия генеральной совокупности нам неизвестна, но даны значения выборки, значит , будем работать по криттерию Стьюдента"
   ]
  },
  {
   "cell_type": "code",
   "execution_count": 22,
   "metadata": {},
   "outputs": [
    {
     "data": {
      "text/plain": [
       "0.14918444959177218"
      ]
     },
     "execution_count": 22,
     "metadata": {},
     "output_type": "execute_result"
    }
   ],
   "source": [
    "parts=[2.51, 2.35, 2.74, 2.56, 2.40, 2.36, 2.65, 2.7, 2.67, 2.34]\n",
    "np.std(parts)"
   ]
  },
  {
   "cell_type": "code",
   "execution_count": 25,
   "metadata": {},
   "outputs": [
    {
     "data": {
      "text/plain": [
       "2.5279999999999996"
      ]
     },
     "execution_count": 25,
     "metadata": {},
     "output_type": "execute_result"
    }
   ],
   "source": [
    "np.mean(parts)"
   ]
  },
  {
   "cell_type": "code",
   "execution_count": 24,
   "metadata": {},
   "outputs": [
    {
     "data": {
      "text/plain": [
       "2.2621571627409915"
      ]
     },
     "execution_count": 24,
     "metadata": {},
     "output_type": "execute_result"
    }
   ],
   "source": [
    "stats.t.ppf(1-0.05/2,len(parts)-1)"
   ]
  },
  {
   "cell_type": "markdown",
   "metadata": {},
   "source": [
    "Получаем среднее квадратичное отклонение по выборке в 0.15 ,среднее арифметическое 2.53,  и критическое значение по стьюденту с двусторонним тестом равноe 2.26"
   ]
  },
  {
   "cell_type": "markdown",
   "metadata": {},
   "source": [
    "Теперь подставим это в формулу расчета криттерия Стьюдента:\n",
    "$$ t_н = \\frac{\\bar{X}-\\mu_0}{\\sigma/\\sqrt{n}}$$\n",
    "$$ t_н = \\frac{2.5-2.53}{0.15/\\sqrt{10}}=\\frac{0.03}{0.15/3.16}=0.632$$"
   ]
  },
  {
   "cell_type": "markdown",
   "metadata": {},
   "source": [
    "Сравниваем $t_н$ с критическим значением $t_{\\frac{\\alpha}{2}}=2.26$ - он меньше, значит верна нулевая гипотеза о том, что истинной среднее арифметическое действительно равно 2.5 см"
   ]
  },
  {
   "cell_type": "markdown",
   "metadata": {},
   "source": [
    "Проверим через функцию в питоне:"
   ]
  },
  {
   "cell_type": "code",
   "execution_count": 34,
   "metadata": {},
   "outputs": [
    {
     "data": {
      "text/plain": [
       "Ttest_1sampResult(statistic=0.5630613661802959, pvalue=0.5871439993940629)"
      ]
     },
     "execution_count": 34,
     "metadata": {},
     "output_type": "execute_result"
    }
   ],
   "source": [
    "stats.ttest_1samp(parts,2.5)"
   ]
  },
  {
   "cell_type": "markdown",
   "metadata": {},
   "source": [
    "Тоже получаем большой p-value для нулевой гипотезе о верности среднего арифметического в 2.5 см"
   ]
  }
 ],
 "metadata": {
  "kernelspec": {
   "display_name": "Python 3.10.4 64-bit",
   "language": "python",
   "name": "python3"
  },
  "language_info": {
   "codemirror_mode": {
    "name": "ipython",
    "version": 3
   },
   "file_extension": ".py",
   "mimetype": "text/x-python",
   "name": "python",
   "nbconvert_exporter": "python",
   "pygments_lexer": "ipython3",
   "version": "3.10.4"
  },
  "orig_nbformat": 4,
  "vscode": {
   "interpreter": {
    "hash": "26de051ba29f2982a8de78e945f0abaf191376122a1563185a90213a26c5da77"
   }
  }
 },
 "nbformat": 4,
 "nbformat_minor": 2
}
