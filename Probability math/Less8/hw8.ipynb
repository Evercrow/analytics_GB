{
 "cells": [
  {
   "cell_type": "markdown",
   "metadata": {},
   "source": [
    "### Задача 1\n",
    "Даны значения величины заработной платы заемщиков банка (zp) и значения их поведенческого кредитного скоринга (ks):  \n",
    "zp = [35, 45, 190, 200, 40, 70, 54, 150, 120, 110],  \n",
    "ks = [401, 574, 874, 919, 459, 739, 653, 902, 746, 832].  \n",
    "Найдите ковариацию этих двух величин с помощью элементарных действий, а затем с помощью функции cov из numpy  \n",
    "Полученные значения должны быть равны.  \n",
    "Найдите коэффициент корреляции Пирсона с помощью ковариации и среднеквадратичных отклонений двух признаков,  \n",
    "а затем с использованием функций из библиотек numpy и pandas. \n"
   ]
  },
  {
   "cell_type": "markdown",
   "metadata": {},
   "source": [
    "**Решение:**  \n",
    "Найдем величину ковариации по формуле:\n",
    "$$ cov_{xy}=M(x*y) - M(x)*M(y)$$"
   ]
  },
  {
   "cell_type": "code",
   "execution_count": 29,
   "metadata": {},
   "outputs": [],
   "source": [
    "import numpy as np\n",
    "import scipy.stats as stats"
   ]
  },
  {
   "cell_type": "code",
   "execution_count": 30,
   "metadata": {},
   "outputs": [
    {
     "data": {
      "text/plain": [
       "9157.839999999997"
      ]
     },
     "execution_count": 30,
     "metadata": {},
     "output_type": "execute_result"
    }
   ],
   "source": [
    "zp = np.array([35, 45, 190, 200, 40, 70, 54, 150, 120, 110])  \n",
    "ks = np.array([401, 574, 874, 919, 459, 739, 653, 902, 746, 832])\n",
    "\n",
    "cov_manual = np.mean(zp*ks) - np.mean(zp)*np.mean(ks)\n",
    "cov_manual"
   ]
  },
  {
   "cell_type": "code",
   "execution_count": 31,
   "metadata": {},
   "outputs": [
    {
     "data": {
      "text/plain": [
       "array([[ 3494.64,  9157.84],\n",
       "       [ 9157.84, 30468.89]])"
      ]
     },
     "execution_count": 31,
     "metadata": {},
     "output_type": "execute_result"
    }
   ],
   "source": [
    "cov_auto = np.cov(zp,ks,ddof=0)\n",
    "#меняем ddof , так как по формуле вручную считаем смещенную величину(нет корректировки числа наблюдений)\n",
    "cov_auto"
   ]
  },
  {
   "cell_type": "markdown",
   "metadata": {},
   "source": [
    "Получили **величину ковариации** между зарплатой и скорингом в 9157.84  \n",
    "Теперь найдем коэффициент корреляции Пирсона, вручную по формуле:\n",
    "$$ r_{xy}=\\frac{cov_{xy}}{\\sigma_x * \\sigma_y} $$"
   ]
  },
  {
   "cell_type": "code",
   "execution_count": 32,
   "metadata": {},
   "outputs": [
    {
     "data": {
      "text/plain": [
       "0.8874900920739158"
      ]
     },
     "execution_count": 32,
     "metadata": {},
     "output_type": "execute_result"
    }
   ],
   "source": [
    "pirs_manual = cov_manual / (np.std(zp,ddof=0) * np.std(ks,ddof=0))\n",
    "pirs_manual"
   ]
  },
  {
   "cell_type": "code",
   "execution_count": 33,
   "metadata": {},
   "outputs": [
    {
     "data": {
      "text/plain": [
       "array([[1.        , 0.88749009],\n",
       "       [0.88749009, 1.        ]])"
      ]
     },
     "execution_count": 33,
     "metadata": {},
     "output_type": "execute_result"
    }
   ],
   "source": [
    "#теперь через встроенную функцию Numpy\n",
    "np.corrcoef(zp,ks)"
   ]
  },
  {
   "cell_type": "code",
   "execution_count": 34,
   "metadata": {},
   "outputs": [
    {
     "data": {
      "text/plain": [
       "0.8874900920739162"
      ]
     },
     "execution_count": 34,
     "metadata": {},
     "output_type": "execute_result"
    }
   ],
   "source": [
    "#и через Pandas, как просили\n",
    "import pandas as pd\n",
    "\n",
    "p_zp= pd.Series(zp)\n",
    "p_ks= pd.Series(ks)\n",
    "p_zp.corr(p_ks , method='pearson')"
   ]
  },
  {
   "cell_type": "markdown",
   "metadata": {},
   "source": [
    "Значения совпали, **коэффициент корреляции Пирсона** равен 0.887"
   ]
  },
  {
   "cell_type": "markdown",
   "metadata": {},
   "source": [
    "### Задача 2\n",
    "Измерены значения IQ выборки студентов,\n",
    "обучающихся в местных технических вузах:  \n",
    "131, 125, 115, 122, 131, 115, 107, 99, 125, 111.  \n",
    "Известно, что в генеральной совокупности IQ распределен нормально.  \n",
    "Найдите доверительный интервал для математического ожидания с надежностью 0.95."
   ]
  },
  {
   "cell_type": "markdown",
   "metadata": {},
   "source": [
    "*Решение:*  \n",
    "Так как известно о нормальности распределения, но неизвестна дисперсия ГС(генеральной совокупности), то для вычисления доверительного интервала будем использовать критическое значение криттерия Стьюдента, и среднее квадратичное отклонение выборки:"
   ]
  },
  {
   "cell_type": "code",
   "execution_count": 35,
   "metadata": {},
   "outputs": [
    {
     "data": {
      "text/plain": [
       "10.54566788359614"
      ]
     },
     "execution_count": 35,
     "metadata": {},
     "output_type": "execute_result"
    }
   ],
   "source": [
    "iq = np.array([131, 125, 115, 122, 131, 115, 107, 99, 125, 111])\n",
    "#отклонение\n",
    "iq_sigma = np.std(iq, ddof=1)\n",
    "iq_sigma\n",
    "\n"
   ]
  },
  {
   "cell_type": "markdown",
   "metadata": {},
   "source": [
    "Чтобы найти табличное значение крит. Стьюдента при надежности 0.95 , мы должен из полной вероятности 1 вычесть $\\alpha/2 = 0.025$  , так как это двусторонняя отсечка статистической значимости. "
   ]
  },
  {
   "cell_type": "code",
   "execution_count": 36,
   "metadata": {},
   "outputs": [
    {
     "data": {
      "text/plain": [
       "2.2621571627409915"
      ]
     },
     "execution_count": 36,
     "metadata": {},
     "output_type": "execute_result"
    }
   ],
   "source": [
    "#табличное значение крит. Стьюдента при надежности 0.95  - \n",
    "t_05 = stats.t.ppf(1-(1-0.95)/2, len(iq)-1)\n",
    "t_05"
   ]
  },
  {
   "cell_type": "markdown",
   "metadata": {},
   "source": [
    "Осталось найти интервалы по формуле:\n",
    "$$ \\bar{X} \\pm t_{\\frac{\\alpha}{2}}*\\frac{\\sigma_x}{\\sqrt(n)} $$"
   ]
  },
  {
   "cell_type": "code",
   "execution_count": 37,
   "metadata": {},
   "outputs": [
    {
     "data": {
      "text/plain": [
       "118.1"
      ]
     },
     "execution_count": 37,
     "metadata": {},
     "output_type": "execute_result"
    }
   ],
   "source": [
    "np.mean(iq)"
   ]
  },
  {
   "cell_type": "code",
   "execution_count": 38,
   "metadata": {},
   "outputs": [
    {
     "name": "stdout",
     "output_type": "stream",
     "text": [
      "Доверительные интервал c надежностью в 95% : \n",
      "\n",
      "[110.556;125.644]\n"
     ]
    }
   ],
   "source": [
    "print(\"Доверительные интервал c надежностью в 95% : \\n\")\n",
    "print(\"[{bor1:.3f};{bor2:.3f}]\".format(bor1 = np.mean(iq) - t_05*iq_sigma/np.sqrt(len(iq)) ,\n",
    "                                        bor2 =np.mean(iq) + t_05*iq_sigma/np.sqrt(len(iq))))\n"
   ]
  },
  {
   "cell_type": "markdown",
   "metadata": {},
   "source": [
    "### Задача 3\n",
    "Известно, что рост футболистов в сборной распределен нормально\n",
    "с дисперсией генеральной совокупности, равной 25 кв.см.  Объем выборки равен 27,\n",
    "среднее выборочное составляет 174.2.  \n",
    "Найдите доверительный интервал для математического\n",
    "ожидания с надежностью 0.95."
   ]
  },
  {
   "cell_type": "markdown",
   "metadata": {},
   "source": [
    "*Решение:*\n",
    "Дано:  \n",
    "$D(X) = 25$ кв.см. , отсюда $=> \\sigma = \\sqrt(25) = 5$ см  \n",
    "$n = 27$  \n",
    "$M(X) = 174.2$  \n",
    "Так как известны математические параметры ГС, то будем использовать Z-криттерий и формулу интервала:\n",
    "$$ M(X) \\pm Z_{\\frac{\\alpha}{2}}*\\frac{\\sigma}{\\sqrt(n)} $$\n",
    "$$ 174.2 \\pm 1.96*\\frac{5}{\\sqrt(27)} $$\n",
    "$$ 174.2 \\pm 1.886 $$\n",
    "Получим интервал в  [172.314;176.086]\n"
   ]
  },
  {
   "cell_type": "markdown",
   "metadata": {},
   "source": [
    "Проверим через расчет в питоне:"
   ]
  },
  {
   "cell_type": "code",
   "execution_count": 39,
   "metadata": {},
   "outputs": [
    {
     "data": {
      "text/plain": [
       "1.959963984540054"
      ]
     },
     "execution_count": 39,
     "metadata": {},
     "output_type": "execute_result"
    }
   ],
   "source": [
    "\n",
    "z_par= stats.norm.ppf(1-0.05/2)\n",
    "z_par"
   ]
  },
  {
   "cell_type": "code",
   "execution_count": 40,
   "metadata": {},
   "outputs": [
    {
     "name": "stdout",
     "output_type": "stream",
     "text": [
      "Доверительные интервал c надежностью в 95% : \n",
      "\n",
      "[172.314;176.086]\n"
     ]
    }
   ],
   "source": [
    "n=27\n",
    "sigma = 5\n",
    "central_tendency = 174.2\n",
    "print(\"Доверительные интервал c надежностью в 95% : \\n\")\n",
    "print(\"[{bor1:.3f};{bor2:.3f}]\".format(bor1 = central_tendency - z_par*sigma/np.sqrt(n) ,\n",
    "                                        bor2 =central_tendency + z_par*sigma/np.sqrt(n)))"
   ]
  }
 ],
 "metadata": {
  "kernelspec": {
   "display_name": "Python 3.10.4 64-bit",
   "language": "python",
   "name": "python3"
  },
  "language_info": {
   "codemirror_mode": {
    "name": "ipython",
    "version": 3
   },
   "file_extension": ".py",
   "mimetype": "text/x-python",
   "name": "python",
   "nbconvert_exporter": "python",
   "pygments_lexer": "ipython3",
   "version": "3.10.4"
  },
  "orig_nbformat": 4,
  "vscode": {
   "interpreter": {
    "hash": "26de051ba29f2982a8de78e945f0abaf191376122a1563185a90213a26c5da77"
   }
  }
 },
 "nbformat": 4,
 "nbformat_minor": 2
}
